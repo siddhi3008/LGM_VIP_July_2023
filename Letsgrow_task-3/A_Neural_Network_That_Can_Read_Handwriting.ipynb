{
  "nbformat": 4,
  "nbformat_minor": 0,
  "metadata": {
    "colab": {
      "provenance": []
    },
    "kernelspec": {
      "name": "python3",
      "display_name": "Python 3"
    },
    "language_info": {
      "name": "python"
    }
  },
  "cells": [
    {
      "cell_type": "markdown",
      "source": [
        "# Develop A Neural Network That Can Read Handwriting\n",
        "# Dataset Used : MNIST Dataset\n",
        "# About Dataset\n",
        "\n",
        "\n",
        "The MNIST dataset is widely utilized in machine learning and computer vision research. It comprises 70,000 images of handwritten digits (0-9) with each image measuring 28x28 pixels. The dataset is divided into two subsets: a training set containing 60,000 images and a test set with 10,000 images. The training set is employed to train a machine learning model, while the test set is used to assess the model's performance."
      ],
      "metadata": {
        "id": "x9bdyjnDJAYL"
      }
    },
    {
      "cell_type": "code",
      "execution_count": 1,
      "metadata": {
        "id": "3xOmCS45I6aR"
      },
      "outputs": [],
      "source": [
        "# Importing Libraries\n",
        "import numpy as np\n",
        "import pandas as pd\n",
        "import matplotlib.pyplot as plt\n",
        "import seaborn as sns\n",
        "from numpy import unique , argmax\n",
        "\n",
        "# TensorFlow already contain MNIST data set which can be loaded using Keras\n",
        "import tensorflow as tf # installing tenserflow\n",
        "from tensorflow import keras"
      ]
    },
    {
      "cell_type": "code",
      "source": [
        "# To Load the MNIST dataset from the Keras API provided by TensorFlow.\n",
        "mnist = tf.keras.datasets.mnist"
      ],
      "metadata": {
        "id": "XRUl0d2PJM6b"
      },
      "execution_count": 2,
      "outputs": []
    },
    {
      "cell_type": "markdown",
      "source": [
        "The provided code indicates that the dataset consists of the following:\n",
        "\n",
        "1. A collection of 60,000 images represented as 28x28 NumPy arrays. Each array represents an individual image, and the pixel values within the arrays range from 0 to 255.\n",
        "2. An array of 60,000 labels corresponding to the correct digits (0-9) for the 60,000 images.\n",
        "3. A collection of 10,000 images represented as 28x28 NumPy arrays. Similarly, each array represents an individual image, and the pixel values within the arrays range from 0 to 255.\n",
        "4. An array of 10,000 labels corresponding to the correct digits (0-9) for the 10,000 images."
      ],
      "metadata": {
        "id": "JtBiAOl-JeQD"
      }
    },
    {
      "cell_type": "markdown",
      "source": [
        "#Dividing the data into train and test data."
      ],
      "metadata": {
        "id": "SRxGr8g5Jp8S"
      }
    },
    {
      "cell_type": "code",
      "source": [
        "(x_train, y_train), (x_test, y_test) = mnist.load_data()"
      ],
      "metadata": {
        "colab": {
          "base_uri": "https://localhost:8080/"
        },
        "id": "ABbgvGO7JM84",
        "outputId": "a320116f-f514-4ba6-840a-080adb69f47d"
      },
      "execution_count": 3,
      "outputs": [
        {
          "output_type": "stream",
          "name": "stdout",
          "text": [
            "Downloading data from https://storage.googleapis.com/tensorflow/tf-keras-datasets/mnist.npz\n",
            "11490434/11490434 [==============================] - 0s 0us/step\n"
          ]
        }
      ]
    },
    {
      "cell_type": "code",
      "source": [
        "print(x_train.shape)\n",
        "print(y_train.shape)\n",
        "print(x_test.shape)\n",
        "print(y_test.shape)"
      ],
      "metadata": {
        "colab": {
          "base_uri": "https://localhost:8080/"
        },
        "id": "0GzvgHk0JM_R",
        "outputId": "2c5d9e81-147b-474d-b0f1-c1183f582bca"
      },
      "execution_count": 4,
      "outputs": [
        {
          "output_type": "stream",
          "name": "stdout",
          "text": [
            "(60000, 28, 28)\n",
            "(60000,)\n",
            "(10000, 28, 28)\n",
            "(10000,)\n"
          ]
        }
      ]
    },
    {
      "cell_type": "code",
      "source": [
        "print(x_train)"
      ],
      "metadata": {
        "colab": {
          "base_uri": "https://localhost:8080/"
        },
        "id": "sQbYfi6fJNB1",
        "outputId": "b02c92c0-9907-422d-bfef-a928ec636239"
      },
      "execution_count": 5,
      "outputs": [
        {
          "output_type": "stream",
          "name": "stdout",
          "text": [
            "[[[0 0 0 ... 0 0 0]\n",
            "  [0 0 0 ... 0 0 0]\n",
            "  [0 0 0 ... 0 0 0]\n",
            "  ...\n",
            "  [0 0 0 ... 0 0 0]\n",
            "  [0 0 0 ... 0 0 0]\n",
            "  [0 0 0 ... 0 0 0]]\n",
            "\n",
            " [[0 0 0 ... 0 0 0]\n",
            "  [0 0 0 ... 0 0 0]\n",
            "  [0 0 0 ... 0 0 0]\n",
            "  ...\n",
            "  [0 0 0 ... 0 0 0]\n",
            "  [0 0 0 ... 0 0 0]\n",
            "  [0 0 0 ... 0 0 0]]\n",
            "\n",
            " [[0 0 0 ... 0 0 0]\n",
            "  [0 0 0 ... 0 0 0]\n",
            "  [0 0 0 ... 0 0 0]\n",
            "  ...\n",
            "  [0 0 0 ... 0 0 0]\n",
            "  [0 0 0 ... 0 0 0]\n",
            "  [0 0 0 ... 0 0 0]]\n",
            "\n",
            " ...\n",
            "\n",
            " [[0 0 0 ... 0 0 0]\n",
            "  [0 0 0 ... 0 0 0]\n",
            "  [0 0 0 ... 0 0 0]\n",
            "  ...\n",
            "  [0 0 0 ... 0 0 0]\n",
            "  [0 0 0 ... 0 0 0]\n",
            "  [0 0 0 ... 0 0 0]]\n",
            "\n",
            " [[0 0 0 ... 0 0 0]\n",
            "  [0 0 0 ... 0 0 0]\n",
            "  [0 0 0 ... 0 0 0]\n",
            "  ...\n",
            "  [0 0 0 ... 0 0 0]\n",
            "  [0 0 0 ... 0 0 0]\n",
            "  [0 0 0 ... 0 0 0]]\n",
            "\n",
            " [[0 0 0 ... 0 0 0]\n",
            "  [0 0 0 ... 0 0 0]\n",
            "  [0 0 0 ... 0 0 0]\n",
            "  ...\n",
            "  [0 0 0 ... 0 0 0]\n",
            "  [0 0 0 ... 0 0 0]\n",
            "  [0 0 0 ... 0 0 0]]]\n"
          ]
        }
      ]
    },
    {
      "cell_type": "code",
      "source": [
        "print(x_test)"
      ],
      "metadata": {
        "colab": {
          "base_uri": "https://localhost:8080/"
        },
        "id": "thDvp3JEJNGL",
        "outputId": "67bbbb4a-520f-4ffb-b092-18b7cf22dd5d"
      },
      "execution_count": 6,
      "outputs": [
        {
          "output_type": "stream",
          "name": "stdout",
          "text": [
            "[[[0 0 0 ... 0 0 0]\n",
            "  [0 0 0 ... 0 0 0]\n",
            "  [0 0 0 ... 0 0 0]\n",
            "  ...\n",
            "  [0 0 0 ... 0 0 0]\n",
            "  [0 0 0 ... 0 0 0]\n",
            "  [0 0 0 ... 0 0 0]]\n",
            "\n",
            " [[0 0 0 ... 0 0 0]\n",
            "  [0 0 0 ... 0 0 0]\n",
            "  [0 0 0 ... 0 0 0]\n",
            "  ...\n",
            "  [0 0 0 ... 0 0 0]\n",
            "  [0 0 0 ... 0 0 0]\n",
            "  [0 0 0 ... 0 0 0]]\n",
            "\n",
            " [[0 0 0 ... 0 0 0]\n",
            "  [0 0 0 ... 0 0 0]\n",
            "  [0 0 0 ... 0 0 0]\n",
            "  ...\n",
            "  [0 0 0 ... 0 0 0]\n",
            "  [0 0 0 ... 0 0 0]\n",
            "  [0 0 0 ... 0 0 0]]\n",
            "\n",
            " ...\n",
            "\n",
            " [[0 0 0 ... 0 0 0]\n",
            "  [0 0 0 ... 0 0 0]\n",
            "  [0 0 0 ... 0 0 0]\n",
            "  ...\n",
            "  [0 0 0 ... 0 0 0]\n",
            "  [0 0 0 ... 0 0 0]\n",
            "  [0 0 0 ... 0 0 0]]\n",
            "\n",
            " [[0 0 0 ... 0 0 0]\n",
            "  [0 0 0 ... 0 0 0]\n",
            "  [0 0 0 ... 0 0 0]\n",
            "  ...\n",
            "  [0 0 0 ... 0 0 0]\n",
            "  [0 0 0 ... 0 0 0]\n",
            "  [0 0 0 ... 0 0 0]]\n",
            "\n",
            " [[0 0 0 ... 0 0 0]\n",
            "  [0 0 0 ... 0 0 0]\n",
            "  [0 0 0 ... 0 0 0]\n",
            "  ...\n",
            "  [0 0 0 ... 0 0 0]\n",
            "  [0 0 0 ... 0 0 0]\n",
            "  [0 0 0 ... 0 0 0]]]\n"
          ]
        }
      ]
    },
    {
      "cell_type": "code",
      "source": [
        "#To prepare the input data for a Convolutional Neural Network (CNN) in TensorFlow, it needs to be reshaped into a 4D format.\n",
        "#The required shape is (num_samples, image_height, image_width, num_channels), where num_samples represents the number of images, image_height and image_width are the dimensions of each image, and num_channels indicates the number of color channels.\n",
        "#In this case, since the input images are grayscale, num_channels is set to 1.\n",
        "#By reshaping the data in this manner, it conforms to the expected input format for a CNN in TensorFlow.\n",
        "\n",
        "x_train = x_train.reshape((x_train.shape[0] , x_train.shape[1] , x_train.shape[2],1))\n",
        "x_test = x_test.reshape((x_test.shape[0] , x_test.shape[1] , x_test.shape[2],1))\n",
        "print(x_train.shape)\n",
        "print(x_test.shape)\n",
        "print(x_train.dtype)\n",
        "print(x_test.dtype)"
      ],
      "metadata": {
        "colab": {
          "base_uri": "https://localhost:8080/"
        },
        "id": "r_ytukUnJNIJ",
        "outputId": "19da7055-7d26-468d-e4cd-82496f3bb0c1"
      },
      "execution_count": 7,
      "outputs": [
        {
          "output_type": "stream",
          "name": "stdout",
          "text": [
            "(60000, 28, 28, 1)\n",
            "(10000, 28, 28, 1)\n",
            "uint8\n",
            "uint8\n"
          ]
        }
      ]
    },
    {
      "cell_type": "code",
      "source": [
        "# Normalizing Pixel Values\n",
        "\n",
        "x_train = x_train.astype('float32')/255.0\n",
        "x_test = x_test.astype('float32')/255.0\n",
        "print(x_train.dtype)\n",
        "print(x_test.dtype)"
      ],
      "metadata": {
        "colab": {
          "base_uri": "https://localhost:8080/"
        },
        "id": "pRoUx4J5JNKx",
        "outputId": "0151f598-9cd4-49c9-a49e-8d0674cf38d4"
      },
      "execution_count": 8,
      "outputs": [
        {
          "output_type": "stream",
          "name": "stdout",
          "text": [
            "float32\n",
            "float32\n"
          ]
        }
      ]
    },
    {
      "cell_type": "code",
      "source": [
        "# Visulaizing Subsets of images in MNIST Dataset along with coressponding labels.\n",
        "\n",
        "fig=plt.figure(figsize=(5,3))\n",
        "for i in range(20):\n",
        "    ax =fig.add_subplot(2,10,i+1, xticks=[], yticks=[])\n",
        "    ax.imshow(np.squeeze(x_train[i]), cmap='Reds')\n",
        "    ax.set_title(y_train[i])"
      ],
      "metadata": {
        "colab": {
          "base_uri": "https://localhost:8080/",
          "height": 218
        },
        "id": "GNX0Ur0UJNNF",
        "outputId": "c660b78d-03fc-4f16-ca44-da0ccb0170b0"
      },
      "execution_count": 9,
      "outputs": [
        {
          "output_type": "display_data",
          "data": {
            "text/plain": [
              "<Figure size 500x300 with 20 Axes>"
            ],
            "image/png": "[encoded data removed]"
          },
          "metadata": {}
        }
      ]
    },
    {
      "cell_type": "code",
      "source": [
        "# showing shape of single image\n",
        "img_shape= x_train.shape[1:]\n",
        "img_shape"
      ],
      "metadata": {
        "colab": {
          "base_uri": "https://localhost:8080/"
        },
        "id": "P5yIK3EpJNPS",
        "outputId": "a1a0d218-3a76-4f98-de03-2c08c0549dac"
      },
      "execution_count": 10,
      "outputs": [
        {
          "output_type": "execute_result",
          "data": {
            "text/plain": [
              "(28, 28, 1)"
            ]
          },
          "metadata": {},
          "execution_count": 10
        }
      ]
    },
    {
      "cell_type": "markdown",
      "source": [
        "#BUILDING NEURAL NETWORK THAT CAN READ HANDWRITING"
      ],
      "metadata": {
        "id": "6TeqHcHlKMwe"
      }
    },
    {
      "cell_type": "code",
      "source": [
        "# Creating aSequential Model in Keras\n",
        "model = tf.keras.models.Sequential([\n",
        "    tf.keras.layers.Flatten(input_shape=(28, 28)),\n",
        "    tf.keras.layers.Dense(128, activation='relu'),\n",
        "    tf.keras.layers.Dropout(0.2),\n",
        "    tf.keras.layers.Dense(10)\n",
        "])"
      ],
      "metadata": {
        "id": "VkP4LhVHJNRQ"
      },
      "execution_count": 11,
      "outputs": []
    },
    {
      "cell_type": "code",
      "source": [
        "model.summary()"
      ],
      "metadata": {
        "colab": {
          "base_uri": "https://localhost:8080/"
        },
        "id": "tw0NMWJQJNcv",
        "outputId": "5fb178fd-d4b4-46af-a2dc-ad9faf58077c"
      },
      "execution_count": 12,
      "outputs": [
        {
          "output_type": "stream",
          "name": "stdout",
          "text": [
            "Model: \"sequential\"\n",
            "_________________________________________________________________\n",
            " Layer (type)                Output Shape              Param #   \n",
            "=================================================================\n",
            " flatten (Flatten)           (None, 784)               0         \n",
            "                                                                 \n",
            " dense (Dense)               (None, 128)               100480    \n",
            "                                                                 \n",
            " dropout (Dropout)           (None, 128)               0         \n",
            "                                                                 \n",
            " dense_1 (Dense)             (None, 10)                1290      \n",
            "                                                                 \n",
            "=================================================================\n",
            "Total params: 101,770\n",
            "Trainable params: 101,770\n",
            "Non-trainable params: 0\n",
            "_________________________________________________________________\n"
          ]
        }
      ]
    },
    {
      "cell_type": "markdown",
      "source": [
        "This summary shows that the model has four layers:\n",
        "\n",
        "1. A Flatten layer that flattens the input images to a 1D array of length 784.\n",
        "2. A Dense layer with 128 units and ReLU activation.\n",
        "3. A Dropout layer that randomly sets 20% of the input units to 0 during training.\n",
        "4. A second Dense layer with 10 units and no activation function.\n",
        "\n",
        "The summary also shows the number of trainable parameters in each layer, as well as the total number of trainable parameters in the model. In this case, the model has a total of 101,770 trainable parameters."
      ],
      "metadata": {
        "id": "-OpiuT0bKTwR"
      }
    },
    {
      "cell_type": "code",
      "source": [
        "# Displaying Neural Network Model\n",
        "from tensorflow.keras.utils import plot_model\n",
        "plot_model(model, 'model.jpg', show_shapes = True)"
      ],
      "metadata": {
        "colab": {
          "base_uri": "https://localhost:8080/",
          "height": 533
        },
        "id": "g_R2FHqCJNdx",
        "outputId": "0da9b740-a15f-42e6-9908-19b4b6c018c7"
      },
      "execution_count": 13,
      "outputs": [
        {
          "output_type": "execute_result",
          "data": {
            "image/jpeg": "[encoded data removed]",
            "text/plain": [
              "<IPython.core.display.Image object>"
            ]
          },
          "metadata": {},
          "execution_count": 13
        }
      ]
    },
    {
      "cell_type": "code",
      "source": [
        "# Making Prediction on Model\n",
        "prediction = model(x_train[:1]).numpy()\n",
        "prediction"
      ],
      "metadata": {
        "colab": {
          "base_uri": "https://localhost:8080/"
        },
        "id": "U5ApP-yFKczh",
        "outputId": "5eb53504-1fa0-4c61-8764-eed558bfd92a"
      },
      "execution_count": 14,
      "outputs": [
        {
          "output_type": "execute_result",
          "data": {
            "text/plain": [
              "array([[ 0.01730527, -0.4615551 ,  0.2052885 , -0.0530715 ,  0.03582594,\n",
              "        -0.3273242 ,  0.21048726, -0.210284  , -1.0317514 , -0.8279645 ]],\n",
              "      dtype=float32)"
            ]
          },
          "metadata": {},
          "execution_count": 14
        }
      ]
    },
    {
      "cell_type": "code",
      "source": [
        "# Applying Softmax() Function to prediction array\n",
        "# This convert an output vector of real numbers into a probability distribution over predicted classes\n",
        "tf.nn.softmax(prediction).numpy()"
      ],
      "metadata": {
        "colab": {
          "base_uri": "https://localhost:8080/"
        },
        "id": "eF9hwmcIKdBz",
        "outputId": "82034dbd-2791-4ff2-8c6e-91aae7c68cd1"
      },
      "execution_count": 15,
      "outputs": [
        {
          "output_type": "execute_result",
          "data": {
            "text/plain": [
              "array([[0.12084906, 0.07486466, 0.14584224, 0.11263648, 0.12310812,\n",
              "        0.08561947, 0.14660242, 0.09625039, 0.04232956, 0.0518976 ]],\n",
              "      dtype=float32)"
            ]
          },
          "metadata": {},
          "execution_count": 15
        }
      ]
    },
    {
      "cell_type": "code",
      "source": [
        "loss_fn = tf.keras.losses.SparseCategoricalCrossentropy(from_logits=True)\n",
        "loss_fn(y_train[:1], prediction).numpy()\n",
        "model.compile(optimizer='adam',loss=loss_fn,metrics=['accuracy'])"
      ],
      "metadata": {
        "id": "74bmJ0kiKi5-"
      },
      "execution_count": 16,
      "outputs": []
    },
    {
      "cell_type": "markdown",
      "source": [
        "#Model fitting"
      ],
      "metadata": {
        "id": "l1vFm9_5KnOB"
      }
    },
    {
      "cell_type": "code",
      "source": [
        "# Training the Model\n",
        "model.fit(x_train, y_train, epochs=5)"
      ],
      "metadata": {
        "colab": {
          "base_uri": "https://localhost:8080/"
        },
        "id": "f2HM8CCzKi8o",
        "outputId": "cd6d1659-6c92-48ee-fe9a-c67d76f68adf"
      },
      "execution_count": 17,
      "outputs": [
        {
          "output_type": "stream",
          "name": "stdout",
          "text": [
            "Epoch 1/5\n",
            "1875/1875 [==============================] - 10s 5ms/step - loss: 0.2939 - accuracy: 0.9148\n",
            "Epoch 2/5\n",
            "1875/1875 [==============================] - 9s 5ms/step - loss: 0.1417 - accuracy: 0.9579\n",
            "Epoch 3/5\n",
            "1875/1875 [==============================] - 10s 5ms/step - loss: 0.1072 - accuracy: 0.9678\n",
            "Epoch 4/5\n",
            "1875/1875 [==============================] - 14s 7ms/step - loss: 0.0913 - accuracy: 0.9714\n",
            "Epoch 5/5\n",
            "1875/1875 [==============================] - 10s 5ms/step - loss: 0.0761 - accuracy: 0.9757\n"
          ]
        },
        {
          "output_type": "execute_result",
          "data": {
            "text/plain": [
              "<keras.callbacks.History at 0x7fdb3d7ea7a0>"
            ]
          },
          "metadata": {},
          "execution_count": 17
        }
      ]
    },
    {
      "cell_type": "code",
      "source": [
        "# Evaluating the Model\n",
        "model.evaluate(x_test, y_test, verbose=2)"
      ],
      "metadata": {
        "colab": {
          "base_uri": "https://localhost:8080/"
        },
        "id": "T3DsAuOiKi_a",
        "outputId": "0f396c8d-eace-4d2b-fa02-9c76abdee836"
      },
      "execution_count": 18,
      "outputs": [
        {
          "output_type": "stream",
          "name": "stdout",
          "text": [
            "313/313 - 1s - loss: 0.0802 - accuracy: 0.9773 - 611ms/epoch - 2ms/step\n"
          ]
        },
        {
          "output_type": "execute_result",
          "data": {
            "text/plain": [
              "[0.08020706474781036, 0.9772999882698059]"
            ]
          },
          "metadata": {},
          "execution_count": 18
        }
      ]
    },
    {
      "cell_type": "code",
      "source": [
        "# Creating a new sequential model which includes both previously trained model and softmax layer.\n",
        "probability_model = tf.keras.Sequential([ model,tf.keras.layers.Softmax() ])\n",
        "probability_model(x_test[:5])"
      ],
      "metadata": {
        "colab": {
          "base_uri": "https://localhost:8080/"
        },
        "id": "PsOWcTosKjCJ",
        "outputId": "4417a021-46e5-4409-b9d1-7b845b25bf22"
      },
      "execution_count": 19,
      "outputs": [
        {
          "output_type": "execute_result",
          "data": {
            "text/plain": [
              "<tf.Tensor: shape=(5, 10), dtype=float32, numpy=\n",
              "array([[1.44050940e-08, 5.16324483e-10, 5.79216385e-06, 2.09913778e-04,\n",
              "        5.79552769e-12, 1.01277564e-07, 2.92181847e-14, 9.99783695e-01,\n",
              "        8.54876774e-08, 4.06198893e-07],\n",
              "       [6.63719320e-08, 1.60573015e-03, 9.98371184e-01, 2.25039712e-05,\n",
              "        6.33885026e-15, 1.97930149e-07, 4.14375627e-08, 1.41314239e-12,\n",
              "        2.27806851e-07, 6.17008614e-14],\n",
              "       [6.94852986e-07, 9.97087777e-01, 4.61312331e-04, 5.85968428e-06,\n",
              "        1.35089995e-05, 2.48297729e-05, 9.76161027e-06, 2.27411231e-03,\n",
              "        1.21382996e-04, 6.54992618e-07],\n",
              "       [9.99850988e-01, 2.12014184e-09, 2.72673860e-05, 6.67513802e-07,\n",
              "        2.32423162e-07, 1.61407684e-06, 1.64203539e-05, 4.45666001e-06,\n",
              "        1.98180800e-07, 9.80380210e-05],\n",
              "       [3.66152631e-06, 3.59641525e-08, 1.84509572e-05, 3.81980300e-07,\n",
              "        9.91816938e-01, 2.58812179e-06, 7.27638962e-07, 1.01961821e-04,\n",
              "        2.74719497e-07, 8.05499032e-03]], dtype=float32)>"
            ]
          },
          "metadata": {},
          "execution_count": 19
        }
      ]
    },
    {
      "cell_type": "code",
      "source": [
        "# Displaying a Grayscale Image\n",
        "img = x_train[16]\n",
        "plt.imshow(np.squeeze(img) ,cmap='gray')\n",
        "plt.show()"
      ],
      "metadata": {
        "colab": {
          "base_uri": "https://localhost:8080/",
          "height": 430
        },
        "id": "AnF7A1XPKjF3",
        "outputId": "f14fdd3d-e8d1-43ce-dc53-2518365d0cfe"
      },
      "execution_count": 22,
      "outputs": [
        {
          "output_type": "display_data",
          "data": {
            "text/plain": [
              "<Figure size 640x480 with 1 Axes>"
            ],
            "image/png": "[encoded data removed]"
          },
          "metadata": {}
        }
      ]
    },
    {
      "cell_type": "code",
      "source": [
        "# Predicting the Result\n",
        "img= img.reshape(1, img.shape[0],img.shape[1],img.shape[2])\n",
        "p= model.predict([img])\n",
        "print(\"predicted : {}\".format(argmax(p)))"
      ],
      "metadata": {
        "colab": {
          "base_uri": "https://localhost:8080/"
        },
        "id": "Ppg6B36LKxEB",
        "outputId": "c2d27264-e1ad-450d-ebac-b7d7076c63c6"
      },
      "execution_count": 23,
      "outputs": [
        {
          "output_type": "stream",
          "name": "stdout",
          "text": [
            "1/1 [==============================] - 0s 35ms/step\n",
            "predicted : 2\n"
          ]
        }
      ]
    }
  ]
}